{
 "cells": [
  {
   "cell_type": "code",
   "execution_count": 18,
   "metadata": {},
   "outputs": [
    {
     "ename": "SyntaxError",
     "evalue": "expected argument value expression (2497317457.py, line 9)",
     "output_type": "error",
     "traceback": [
      "\u001b[1;36m  Cell \u001b[1;32mIn[18], line 9\u001b[1;36m\u001b[0m\n\u001b[1;33m    obb.account.login(pat=, )\u001b[0m\n\u001b[1;37m                      ^\u001b[0m\n\u001b[1;31mSyntaxError\u001b[0m\u001b[1;31m:\u001b[0m expected argument value expression\n"
     ]
    }
   ],
   "source": [
    "from openbb import obb\n",
    "import numpy as np\n",
    "import pandas as pd\n",
    "from openbb_core.provider.standard_models.bond_prices import (\n",
    "BondPricesData,\n",
    "BondPricesQueryParams,\n",
    ")\n",
    "\n",
    "#obb.account.login(pat=, )"
   ]
  },
  {
   "cell_type": "code",
   "execution_count": 17,
   "metadata": {},
   "outputs": [
    {
     "ename": "OpenBBError",
     "evalue": "\n[Unexpected Error] -> TimeoutError -> ",
     "output_type": "error",
     "traceback": [
      "\u001b[1;31m---------------------------------------------------------------------------\u001b[0m",
      "\u001b[1;31mOpenBBError\u001b[0m                               Traceback (most recent call last)",
      "Cell \u001b[1;32mIn[17], line 2\u001b[0m\n\u001b[0;32m      1\u001b[0m obb\u001b[38;5;241m.\u001b[39mfixedincome\u001b[38;5;241m.\u001b[39mcorporate\u001b[38;5;241m.\u001b[39mspot_rates(provider\u001b[38;5;241m=\u001b[39m\u001b[38;5;124m'\u001b[39m\u001b[38;5;124mfred\u001b[39m\u001b[38;5;124m'\u001b[39m)\n\u001b[1;32m----> 2\u001b[0m results_thing \u001b[38;5;241m=\u001b[39m \u001b[43mobb\u001b[49m\u001b[38;5;241;43m.\u001b[39;49m\u001b[43mfixedincome\u001b[49m\u001b[38;5;241;43m.\u001b[39;49m\u001b[43mcorporate\u001b[49m\u001b[38;5;241;43m.\u001b[39;49m\u001b[43mbond_prices\u001b[49m\u001b[43m(\u001b[49m\u001b[43missuer_name\u001b[49m\u001b[38;5;241;43m=\u001b[39;49m\u001b[43m \u001b[49m\u001b[38;5;124;43m\"\u001b[39;49m\u001b[38;5;124;43mHD\u001b[39;49m\u001b[38;5;124;43m\"\u001b[39;49m\u001b[43m,\u001b[49m\u001b[43mprovider\u001b[49m\u001b[38;5;241;43m=\u001b[39;49m\u001b[38;5;124;43m'\u001b[39;49m\u001b[38;5;124;43mtmx\u001b[39;49m\u001b[38;5;124;43m'\u001b[39;49m\u001b[43m)\u001b[49m\n\u001b[0;32m      3\u001b[0m data \u001b[38;5;241m=\u001b[39mresults_thing\u001b[38;5;241m.\u001b[39mto_df()\n\u001b[0;32m      4\u001b[0m data\u001b[38;5;241m.\u001b[39mtail(\u001b[38;5;241m15\u001b[39m)\n",
      "File \u001b[1;32m~\\AppData\\Local\\Packages\\PythonSoftwareFoundation.Python.3.12_qbz5n2kfra8p0\\LocalCache\\local-packages\\Python312\\site-packages\\openbb_core\\app\\static\\utils\\decorators.py:101\u001b[0m, in \u001b[0;36mexception_handler.<locals>.wrapper\u001b[1;34m(*f_args, **f_kwargs)\u001b[0m\n\u001b[0;32m     99\u001b[0m         \u001b[38;5;28;01mraise\u001b[39;00m OpenBBError(\u001b[38;5;124mf\u001b[39m\u001b[38;5;124m\"\u001b[39m\u001b[38;5;130;01m\\n\u001b[39;00m\u001b[38;5;124m[Error] -> \u001b[39m\u001b[38;5;132;01m{\u001b[39;00me\u001b[38;5;132;01m}\u001b[39;00m\u001b[38;5;124m\"\u001b[39m)\u001b[38;5;241m.\u001b[39mwith_traceback(tb) \u001b[38;5;28;01mfrom\u001b[39;00m \u001b[38;5;28;01mNone\u001b[39;00m\n\u001b[0;32m    100\u001b[0m     \u001b[38;5;28;01mif\u001b[39;00m \u001b[38;5;28misinstance\u001b[39m(e, \u001b[38;5;167;01mException\u001b[39;00m):\n\u001b[1;32m--> 101\u001b[0m         \u001b[38;5;28;01mraise\u001b[39;00m OpenBBError(\n\u001b[0;32m    102\u001b[0m             \u001b[38;5;124mf\u001b[39m\u001b[38;5;124m\"\u001b[39m\u001b[38;5;130;01m\\n\u001b[39;00m\u001b[38;5;124m[Unexpected Error] -> \u001b[39m\u001b[38;5;132;01m{\u001b[39;00me\u001b[38;5;241m.\u001b[39m\u001b[38;5;18m__class__\u001b[39m\u001b[38;5;241m.\u001b[39m\u001b[38;5;18m__name__\u001b[39m\u001b[38;5;132;01m}\u001b[39;00m\u001b[38;5;124m -> \u001b[39m\u001b[38;5;132;01m{\u001b[39;00me\u001b[38;5;132;01m}\u001b[39;00m\u001b[38;5;124m\"\u001b[39m\n\u001b[0;32m    103\u001b[0m         )\u001b[38;5;241m.\u001b[39mwith_traceback(tb) \u001b[38;5;28;01mfrom\u001b[39;00m \u001b[38;5;28;01mNone\u001b[39;00m\n\u001b[0;32m    105\u001b[0m \u001b[38;5;28;01mreturn\u001b[39;00m \u001b[38;5;28;01mNone\u001b[39;00m\n",
      "File \u001b[1;32m~\\AppData\\Local\\Packages\\PythonSoftwareFoundation.Python.3.12_qbz5n2kfra8p0\\LocalCache\\local-packages\\Python312\\site-packages\\aiohttp\\helpers.py:671\u001b[0m, in \u001b[0;36mTimerContext.__exit__\u001b[1;34m(self, exc_type, exc_val, exc_tb)\u001b[0m\n\u001b[0;32m    669\u001b[0m         \u001b[38;5;28;01mif\u001b[39;00m enter_task\u001b[38;5;241m.\u001b[39muncancel() \u001b[38;5;241m>\u001b[39m \u001b[38;5;28mself\u001b[39m\u001b[38;5;241m.\u001b[39m_cancelling:\n\u001b[0;32m    670\u001b[0m             \u001b[38;5;28;01mreturn\u001b[39;00m \u001b[38;5;28;01mNone\u001b[39;00m\n\u001b[1;32m--> 671\u001b[0m     \u001b[38;5;28;01mraise\u001b[39;00m asyncio\u001b[38;5;241m.\u001b[39mTimeoutError \u001b[38;5;28;01mfrom\u001b[39;00m \u001b[38;5;21;01mexc_val\u001b[39;00m\n\u001b[0;32m    672\u001b[0m \u001b[38;5;28;01mreturn\u001b[39;00m \u001b[38;5;28;01mNone\u001b[39;00m\n",
      "\u001b[1;31mOpenBBError\u001b[0m: \n[Unexpected Error] -> TimeoutError -> "
     ]
    }
   ],
   "source": [
    "obb.fixedincome.corporate.spot_rates(provider='fred')\n",
    "results_thing = obb.fixedincome.corporate.bond_prices(issuer_name= \"HD\",provider='tmx')\n",
    "data =results_thing.to_df()\n",
    "data.tail(15)\n"
   ]
  },
  {
   "cell_type": "code",
   "execution_count": 19,
   "metadata": {},
   "outputs": [
    {
     "name": "stderr",
     "output_type": "stream",
     "text": [
      "C:\\Users\\maria\\AppData\\Local\\Packages\\PythonSoftwareFoundation.Python.3.12_qbz5n2kfra8p0\\LocalCache\\local-packages\\Python312\\site-packages\\pydantic\\_internal\\_validate_call.py:111: OpenBBDeprecationWarning: This endpoint is deprecated; use `/fixedincome/bond_indices` instead. Deprecated in OpenBB Platform V4.2 to be removed in V4.5. Deprecated in OpenBB Platform V4.3 to be removed in V5.0.\n",
      "  res = self.__pydantic_validator__.validate_python(pydantic_core.ArgsKwargs(args, kwargs))\n",
      "C:\\Users\\maria\\AppData\\Local\\Packages\\PythonSoftwareFoundation.Python.3.12_qbz5n2kfra8p0\\LocalCache\\local-packages\\Python312\\site-packages\\typing_extensions.py:2853: DeprecationWarning: This endpoint is deprecated; use `/fixedincome/bond_indices` instead. Deprecated in OpenBB Platform V4.2 to be removed in V4.5.\n",
      "  return arg(*args, **kwargs)\n",
      "C:\\Users\\maria\\AppData\\Local\\Packages\\PythonSoftwareFoundation.Python.3.12_qbz5n2kfra8p0\\LocalCache\\local-packages\\Python312\\site-packages\\pydantic\\_internal\\_validate_call.py:111: OpenBBDeprecationWarning: This endpoint is deprecated; use `/fixedincome/bond_indices` instead. Deprecated in OpenBB Platform V4.2 to be removed in V4.5. Deprecated in OpenBB Platform V4.3 to be removed in V5.0.\n",
      "  res = self.__pydantic_validator__.validate_python(pydantic_core.ArgsKwargs(args, kwargs))\n",
      "C:\\Users\\maria\\AppData\\Local\\Packages\\PythonSoftwareFoundation.Python.3.12_qbz5n2kfra8p0\\LocalCache\\local-packages\\Python312\\site-packages\\typing_extensions.py:2853: DeprecationWarning: This endpoint is deprecated; use `/fixedincome/bond_indices` instead. Deprecated in OpenBB Platform V4.2 to be removed in V4.5.\n",
      "  return arg(*args, **kwargs)\n",
      "C:\\Users\\maria\\AppData\\Local\\Packages\\PythonSoftwareFoundation.Python.3.12_qbz5n2kfra8p0\\LocalCache\\local-packages\\Python312\\site-packages\\pydantic\\_internal\\_validate_call.py:111: OpenBBDeprecationWarning: This endpoint is deprecated; use `/fixedincome/bond_indices` instead. Deprecated in OpenBB Platform V4.2 to be removed in V4.5. Deprecated in OpenBB Platform V4.3 to be removed in V5.0.\n",
      "  res = self.__pydantic_validator__.validate_python(pydantic_core.ArgsKwargs(args, kwargs))\n",
      "C:\\Users\\maria\\AppData\\Local\\Packages\\PythonSoftwareFoundation.Python.3.12_qbz5n2kfra8p0\\LocalCache\\local-packages\\Python312\\site-packages\\typing_extensions.py:2853: DeprecationWarning: This endpoint is deprecated; use `/fixedincome/bond_indices` instead. Deprecated in OpenBB Platform V4.2 to be removed in V4.5.\n",
      "  return arg(*args, **kwargs)\n"
     ]
    },
    {
     "data": {
      "text/html": [
       "<div>\n",
       "<style scoped>\n",
       "    .dataframe tbody tr th:only-of-type {\n",
       "        vertical-align: middle;\n",
       "    }\n",
       "\n",
       "    .dataframe tbody tr th {\n",
       "        vertical-align: top;\n",
       "    }\n",
       "\n",
       "    .dataframe thead th {\n",
       "        text-align: right;\n",
       "    }\n",
       "</style>\n",
       "<table border=\"1\" class=\"dataframe\">\n",
       "  <thead>\n",
       "    <tr style=\"text-align: right;\">\n",
       "      <th></th>\n",
       "      <th>rate</th>\n",
       "      <th>realtime_start</th>\n",
       "      <th>realtime_end</th>\n",
       "      <th>title</th>\n",
       "    </tr>\n",
       "    <tr>\n",
       "      <th>date</th>\n",
       "      <th></th>\n",
       "      <th></th>\n",
       "      <th></th>\n",
       "      <th></th>\n",
       "    </tr>\n",
       "  </thead>\n",
       "  <tbody>\n",
       "    <tr>\n",
       "      <th>1996-12-31</th>\n",
       "      <td>7.01</td>\n",
       "      <td>2024-12-29</td>\n",
       "      <td>2024-12-29</td>\n",
       "      <td>ICE BofA US Corporate Index Semi-Annual Yield ...</td>\n",
       "    </tr>\n",
       "    <tr>\n",
       "      <th>1997-01-01</th>\n",
       "      <td>NaN</td>\n",
       "      <td>2024-12-29</td>\n",
       "      <td>2024-12-29</td>\n",
       "      <td>ICE BofA US Corporate Index Semi-Annual Yield ...</td>\n",
       "    </tr>\n",
       "    <tr>\n",
       "      <th>1997-01-02</th>\n",
       "      <td>7.11</td>\n",
       "      <td>2024-12-29</td>\n",
       "      <td>2024-12-29</td>\n",
       "      <td>ICE BofA US Corporate Index Semi-Annual Yield ...</td>\n",
       "    </tr>\n",
       "    <tr>\n",
       "      <th>1997-01-03</th>\n",
       "      <td>7.09</td>\n",
       "      <td>2024-12-29</td>\n",
       "      <td>2024-12-29</td>\n",
       "      <td>ICE BofA US Corporate Index Semi-Annual Yield ...</td>\n",
       "    </tr>\n",
       "    <tr>\n",
       "      <th>1997-01-06</th>\n",
       "      <td>7.11</td>\n",
       "      <td>2024-12-29</td>\n",
       "      <td>2024-12-29</td>\n",
       "      <td>ICE BofA US Corporate Index Semi-Annual Yield ...</td>\n",
       "    </tr>\n",
       "    <tr>\n",
       "      <th>...</th>\n",
       "      <td>...</td>\n",
       "      <td>...</td>\n",
       "      <td>...</td>\n",
       "      <td>...</td>\n",
       "    </tr>\n",
       "    <tr>\n",
       "      <th>2024-12-20</th>\n",
       "      <td>5.34</td>\n",
       "      <td>2024-12-29</td>\n",
       "      <td>2024-12-29</td>\n",
       "      <td>ICE BofA US Corporate Index Semi-Annual Yield ...</td>\n",
       "    </tr>\n",
       "    <tr>\n",
       "      <th>2024-12-23</th>\n",
       "      <td>5.38</td>\n",
       "      <td>2024-12-29</td>\n",
       "      <td>2024-12-29</td>\n",
       "      <td>ICE BofA US Corporate Index Semi-Annual Yield ...</td>\n",
       "    </tr>\n",
       "    <tr>\n",
       "      <th>2024-12-24</th>\n",
       "      <td>5.37</td>\n",
       "      <td>2024-12-29</td>\n",
       "      <td>2024-12-29</td>\n",
       "      <td>ICE BofA US Corporate Index Semi-Annual Yield ...</td>\n",
       "    </tr>\n",
       "    <tr>\n",
       "      <th>2024-12-25</th>\n",
       "      <td>NaN</td>\n",
       "      <td>2024-12-29</td>\n",
       "      <td>2024-12-29</td>\n",
       "      <td>ICE BofA US Corporate Index Semi-Annual Yield ...</td>\n",
       "    </tr>\n",
       "    <tr>\n",
       "      <th>2024-12-26</th>\n",
       "      <td>5.36</td>\n",
       "      <td>2024-12-29</td>\n",
       "      <td>2024-12-29</td>\n",
       "      <td>ICE BofA US Corporate Index Semi-Annual Yield ...</td>\n",
       "    </tr>\n",
       "  </tbody>\n",
       "</table>\n",
       "<p>7398 rows × 4 columns</p>\n",
       "</div>"
      ],
      "text/plain": [
       "            rate realtime_start realtime_end  \\\n",
       "date                                           \n",
       "1996-12-31  7.01     2024-12-29   2024-12-29   \n",
       "1997-01-01   NaN     2024-12-29   2024-12-29   \n",
       "1997-01-02  7.11     2024-12-29   2024-12-29   \n",
       "1997-01-03  7.09     2024-12-29   2024-12-29   \n",
       "1997-01-06  7.11     2024-12-29   2024-12-29   \n",
       "...          ...            ...          ...   \n",
       "2024-12-20  5.34     2024-12-29   2024-12-29   \n",
       "2024-12-23  5.38     2024-12-29   2024-12-29   \n",
       "2024-12-24  5.37     2024-12-29   2024-12-29   \n",
       "2024-12-25   NaN     2024-12-29   2024-12-29   \n",
       "2024-12-26  5.36     2024-12-29   2024-12-29   \n",
       "\n",
       "                                                        title  \n",
       "date                                                           \n",
       "1996-12-31  ICE BofA US Corporate Index Semi-Annual Yield ...  \n",
       "1997-01-01  ICE BofA US Corporate Index Semi-Annual Yield ...  \n",
       "1997-01-02  ICE BofA US Corporate Index Semi-Annual Yield ...  \n",
       "1997-01-03  ICE BofA US Corporate Index Semi-Annual Yield ...  \n",
       "1997-01-06  ICE BofA US Corporate Index Semi-Annual Yield ...  \n",
       "...                                                       ...  \n",
       "2024-12-20  ICE BofA US Corporate Index Semi-Annual Yield ...  \n",
       "2024-12-23  ICE BofA US Corporate Index Semi-Annual Yield ...  \n",
       "2024-12-24  ICE BofA US Corporate Index Semi-Annual Yield ...  \n",
       "2024-12-25  ICE BofA US Corporate Index Semi-Annual Yield ...  \n",
       "2024-12-26  ICE BofA US Corporate Index Semi-Annual Yield ...  \n",
       "\n",
       "[7398 rows x 4 columns]"
      ]
     },
     "execution_count": 19,
     "metadata": {},
     "output_type": "execute_result"
    }
   ],
   "source": [
    "obb.fixedincome.corporate.ice_bofa(provider='fred')\n",
    "obb.fixedincome.corporate.ice_bofa(index_type='yield_to_worst', provider='fred')\n",
    "quote_data = obb.fixedincome.corporate.ice_bofa(index_type='yield_to_worst', provider='fred')\n",
    "quote_data=quote_data.to_df()\n",
    "quote_data"
   ]
  },
  {
   "cell_type": "code",
   "execution_count": null,
   "metadata": {},
   "outputs": [],
   "source": []
  }
 ],
 "metadata": {
  "kernelspec": {
   "display_name": "Python 3",
   "language": "python",
   "name": "python3"
  },
  "language_info": {
   "codemirror_mode": {
    "name": "ipython",
    "version": 3
   },
   "file_extension": ".py",
   "mimetype": "text/x-python",
   "name": "python",
   "nbconvert_exporter": "python",
   "pygments_lexer": "ipython3",
   "version": "3.12.8"
  }
 },
 "nbformat": 4,
 "nbformat_minor": 2
}
